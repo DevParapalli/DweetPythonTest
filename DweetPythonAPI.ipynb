{
 "cells": [
  {
   "cell_type": "code",
   "execution_count": 30,
   "metadata": {},
   "outputs": [
    {
     "name": "stdout",
     "output_type": "stream",
     "text": [
      "http://dweet.io/dweet/for/devansh-device-test?varA=16\n",
      "http://dweet.io/dweet/for/devansh-device-test?varA=16&varB=32\n",
      "http://dweet.io/dweet/for/devansh-device-test?varA=16&varB=32&varC=64\n",
      "{\"this\":\"succeeded\",\"by\":\"dweeting\",\"the\":\"dweet\",\"with\":{\"thing\":\"devansh-device-test\",\"created\":\"2018-05-05T06:21:24.550Z\",\"content\":{\"varA\":16,\"varB\":32,\"varC\":64},\"transaction\":\"44680c7f-3b08-46d8-9385-6b41e914276e\"}}\n"
     ]
    }
   ],
   "source": [
    "import requests\n",
    "import time\n",
    "varA = '16'\n",
    "varB = '32'\n",
    "varC = '64'\n",
    "interval = 0.5\n",
    "\n",
    "#VariableA\n",
    "varAbase_url = 'http://dweet.io/dweet/for/devansh-device-test?varA='\n",
    "urlA = ''.join([varAbase_url, varA])\n",
    "print (urlA)\n",
    "\n",
    "#VarialeB\n",
    "varBbase_url = urlA\n",
    "urlB = ''.join([varBbase_url,'&varB=', varB])\n",
    "print (urlB)\n",
    "\n",
    "#VariableC\n",
    "varCbase_url = urlB\n",
    "urlC = ''.join([varCbase_url,'&varC=', varC])\n",
    "print (urlC)\n",
    "rC = requests.get(urlC)\n",
    "print (rC.text)\n",
    "\n"
   ]
  },
  {
   "cell_type": "code",
   "execution_count": null,
   "metadata": {},
   "outputs": [],
   "source": []
  },
  {
   "cell_type": "code",
   "execution_count": null,
   "metadata": {},
   "outputs": [],
   "source": []
  }
 ],
 "metadata": {
  "kernelspec": {
   "display_name": "Python 3",
   "language": "python",
   "name": "python3"
  },
  "language_info": {
   "codemirror_mode": {
    "name": "ipython",
    "version": 3
   },
   "file_extension": ".py",
   "mimetype": "text/x-python",
   "name": "python",
   "nbconvert_exporter": "python",
   "pygments_lexer": "ipython3",
   "version": "3.6.3"
  }
 },
 "nbformat": 4,
 "nbformat_minor": 2
}
